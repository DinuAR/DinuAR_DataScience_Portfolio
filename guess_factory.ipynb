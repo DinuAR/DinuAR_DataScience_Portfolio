{
  "nbformat": 4,
  "nbformat_minor": 0,
  "metadata": {
    "colab": {
      "provenance": [],
      "collapsed_sections": []
    },
    "kernelspec": {
      "name": "python3",
      "display_name": "Python 3"
    },
    "language_info": {
      "name": "python"
    }
  },
  "cells": [
    {
      "cell_type": "code",
      "execution_count": 3,
      "metadata": {
        "id": "swEvAcTKsinu"
      },
      "outputs": [],
      "source": [
        "import requests\n",
        "import lxml\n",
        "from bs4 import BeautifulSoup\n",
        "from xlwt import *\n",
        "\n",
        "workbook = Workbook(encoding = 'utf-8')\n",
        "table = workbook.add_sheet('data')\n",
        "\n",
        "table.write(0, 0, 'Product_number')\n",
        "table.write(0, 1, 'Product_Name')\n",
        "table.write(0, 2, 'New_Price')\n",
        "table.write(0, 3, 'Old_Price')\n",
        "# table.write(0, 4, 'discount')\n",
        "\n",
        "line = 1\n",
        "\n",
        "url = \"https://www.guessfactory.com/us/en/sale/women/view-all\"\n",
        "headers = {'User-Agent': 'Mozilla/5.0 (iPad; CPU OS 12_2 like Mac OS X) AppleWebKit/605.1.15 (KHTML, like Gecko) Mobile/15E148'}\n",
        "\n",
        "f = requests.get(url, headers = headers)\n",
        "product_list = []\n",
        "soup = BeautifulSoup(f.content, 'html.parser')   \n",
        "\n",
        "products = soup.find_all('div', {'class': 'product-tile__tile-body'})\n",
        "\n",
        "links = [product.find_all('a') for product in products]\n",
        "\n",
        "num = 0       \n",
        "for ancor in links:\n",
        "  urls = ancor[0]['href']\n",
        "  product_list.append(urls)\n",
        "  num += 1\n",
        "  product_url = urls\n",
        "  product_f = requests.get(product_url, headers = headers)\n",
        "  product_soup = BeautifulSoup(product_f.content, 'lxml')\n",
        "  Product_Name = product_soup.find('h1', {'class': 'product-name product-detail__name text--semibold mt-2 mt-md-0 mb-0'})\n",
        "  New_Price = products.find('span',{'class': 'value price__value price__value--sale'})\n",
        "  Old_Price = products.find('span',{'class': 'value'})\n",
        "  # discount = product.find('div', {'class': 'product_tag_discount'})\n",
        "  print(num, urls, '\\n', 'Product:' + Product_Name[0].string.strip())\n",
        "  print('\\n', New_Price.string.strip())\n",
        "  print('\\n', Old_Price.string.strip())\n",
        "\n",
        "  # Product_Name = product.find('h3',{'class': 'pdp-link product-tile__pdp-link h3-pdp'})\n",
        "  # New_Price = product.find('span',{'class': 'stext-105'})\n",
        "  # Old_Price = product.find('del')\n",
        "  # discount = product.find('div', {'class': 'product_tag_discount'})\n",
        "\n",
        "  # print(num, '\\n', 'Product: ' + Product_Name.string.strip())\n",
        "  # print('\\n', New_Price.string.strip())\n",
        "  # print('\\n', Old_Price.string.strip())\n",
        "  # print('\\n', discount.string.strip())\n",
        "  num += 1\n",
        "\n",
        "  table.write(line, 0, num)\n",
        "  table.write(line, 1, Product_Name.string.strip())\n",
        "  table.write(line, 2, New_Price.string.strip())\n",
        "  table.write(line, 3, Old_Price.string.strip())\n",
        "  # table.write(line, 4, discount.string.strip())\n",
        "  line += 1\n",
        "  \n",
        "\n",
        "  workbook.save('product_details_guessfactory.xls')"
      ]
    }
  ]
}